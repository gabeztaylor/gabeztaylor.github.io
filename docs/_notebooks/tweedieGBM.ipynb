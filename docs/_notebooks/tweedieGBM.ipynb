{
 "cells": [
  {
   "cell_type": "markdown",
   "id": "2cb10976",
   "metadata": {},
   "source": [
    "# Tweedie Models From Scratch"
   ]
  },
  {
   "cell_type": "code",
   "execution_count": 3,
   "id": "50458cda",
   "metadata": {},
   "outputs": [],
   "source": [
    "import tweedie\n",
    "import numpy as np\n",
    "import seaborn as sns\n",
    "import matplotlib.pyplot as plt\n",
    "import pandas as pd"
   ]
  },
  {
   "cell_type": "code",
   "execution_count": 4,
   "id": "2c542655",
   "metadata": {},
   "outputs": [],
   "source": [
    "n = 200\n",
    "x = np.sort(np.random.normal(size = n))\n",
    "b0 = 0.1\n",
    "b1 = 1\n",
    "mu = np.exp(b0 + b1 * x)\n",
    "# q = np.random.binomial(size = n, p = 0.1, n = 1)\n",
    "# y = q * tweedie.tweedie(mu=mu, p=1.5, phi=5).rvs(n)\n",
    "y = tweedie.tweedie(mu=mu, p=1.5, phi=0.5).rvs(n)"
   ]
  },
  {
   "cell_type": "code",
   "execution_count": 5,
   "id": "a75a8113",
   "metadata": {},
   "outputs": [
    {
     "data": {
      "text/plain": [
       "<seaborn.axisgrid.FacetGrid at 0x7fc7729eb460>"
      ]
     },
     "execution_count": 5,
     "metadata": {},
     "output_type": "execute_result"
    },
    {
     "data": {
      "image/png": "[encoded data removed]",
      "text/plain": [
       "<Figure size 360x360 with 1 Axes>"
      ]
     },
     "metadata": {
      "needs_background": "light"
     },
     "output_type": "display_data"
    }
   ],
   "source": [
    "sns.displot(y)"
   ]
  },
  {
   "cell_type": "code",
   "execution_count": 6,
   "id": "c9e2deda",
   "metadata": {},
   "outputs": [
    {
     "data": {
      "text/plain": [
       "<AxesSubplot:>"
      ]
     },
     "execution_count": 6,
     "metadata": {},
     "output_type": "execute_result"
    },
    {
     "data": {
      "image/png": "[encoded data removed]",
      "text/plain": [
       "<Figure size 432x288 with 1 Axes>"
      ]
     },
     "metadata": {
      "needs_background": "light"
     },
     "output_type": "display_data"
    }
   ],
   "source": [
    "sns.scatterplot(x = x, y = y)"
   ]
  },
  {
   "cell_type": "code",
   "execution_count": 7,
   "id": "4f3e2119",
   "metadata": {},
   "outputs": [
    {
     "data": {
      "text/html": [
       "<div>\n",
       "<style scoped>\n",
       "    .dataframe tbody tr th:only-of-type {\n",
       "        vertical-align: middle;\n",
       "    }\n",
       "\n",
       "    .dataframe tbody tr th {\n",
       "        vertical-align: top;\n",
       "    }\n",
       "\n",
       "    .dataframe thead th {\n",
       "        text-align: right;\n",
       "    }\n",
       "</style>\n",
       "<table border=\"1\" class=\"dataframe\">\n",
       "  <thead>\n",
       "    <tr style=\"text-align: right;\">\n",
       "      <th></th>\n",
       "      <th>0</th>\n",
       "    </tr>\n",
       "  </thead>\n",
       "  <tbody>\n",
       "    <tr>\n",
       "      <th>count</th>\n",
       "      <td>200.000000</td>\n",
       "    </tr>\n",
       "    <tr>\n",
       "      <th>mean</th>\n",
       "      <td>1.859694</td>\n",
       "    </tr>\n",
       "    <tr>\n",
       "      <th>std</th>\n",
       "      <td>2.359829</td>\n",
       "    </tr>\n",
       "    <tr>\n",
       "      <th>min</th>\n",
       "      <td>0.000000</td>\n",
       "    </tr>\n",
       "    <tr>\n",
       "      <th>25%</th>\n",
       "      <td>0.415380</td>\n",
       "    </tr>\n",
       "    <tr>\n",
       "      <th>50%</th>\n",
       "      <td>1.034595</td>\n",
       "    </tr>\n",
       "    <tr>\n",
       "      <th>75%</th>\n",
       "      <td>2.289224</td>\n",
       "    </tr>\n",
       "    <tr>\n",
       "      <th>max</th>\n",
       "      <td>18.191432</td>\n",
       "    </tr>\n",
       "  </tbody>\n",
       "</table>\n",
       "</div>"
      ],
      "text/plain": [
       "                0\n",
       "count  200.000000\n",
       "mean     1.859694\n",
       "std      2.359829\n",
       "min      0.000000\n",
       "25%      0.415380\n",
       "50%      1.034595\n",
       "75%      2.289224\n",
       "max     18.191432"
      ]
     },
     "execution_count": 7,
     "metadata": {},
     "output_type": "execute_result"
    }
   ],
   "source": [
    "pd.DataFrame(y).describe()"
   ]
  },
  {
   "cell_type": "code",
   "execution_count": null,
   "id": "c6d36cfb",
   "metadata": {},
   "outputs": [],
   "source": []
  },
  {
   "cell_type": "markdown",
   "id": "787315f9",
   "metadata": {},
   "source": [
    "# Generalized Linear Model"
   ]
  },
  {
   "cell_type": "markdown",
   "id": "174c6e04",
   "metadata": {},
   "source": [
    "### The Newton-Raphson Method\n",
    "\n",
    "$$\\hat \\theta_{j+1} = \\theta_j - H^{-1} l'(\\theta_j)$$\n",
    "\n",
    "where $H$ is the matrix of second derivatives of the log-likelihood with respect to $\\theta$ and $l'(\\theta_j)$ is the vector of first derivatives.\n",
    "\n",
    "Here, we treat \n",
    "\n",
    "$$\\theta = \\exp \\{\\beta_0 + \\beta_1 x_i \\}$$\n",
    "\n",
    "Our log-likelihood is \n",
    "\n",
    "$$l(\\theta) \\propto \\sum_i y_i \\frac{\\exp^{1-p} \\{\\beta_0 + \\beta_1 x_i\\}}{1 - p} - \\frac{\\exp^{2-p} \\{\\beta_0 + \\beta_1 x_i \\}}{2 - p}$$\n",
    "\n",
    "Our vector of first derivatives\n",
    "\n",
    "$$\n",
    "\\begin{bmatrix}\n",
    "\\sum_i y_i \\exp^{1-p}\\{\\beta_0 + \\beta_1 x_i\\} - \\exp^{2-p} \\{\\beta_0 + \\beta_1 x_i \\} \\\\\n",
    "\\sum_i y_i x_i \\exp^{1-p}\\{\\beta_0 + \\beta_1 x_i\\} - x_i\\exp^{2-p} \\{\\beta_0 + \\beta_1 x_i \\}\n",
    "\\end{bmatrix}\n",
    "$$\n",
    "\n",
    "And our Hessian\n",
    "\n",
    "$$\n",
    "\\begin{bmatrix}\n",
    "\\sum_i y_i (1-p) \\exp^{1-p}\\{\\beta_0 + \\beta_1 x_i\\} - (2-p)\\exp^{2-p} \\{\\beta_0 + \\beta_1 x_i \\} & \\sum_i y_i x_i (1-p) \\exp^{p-1}\\{\\beta_0 + \\beta_1 x_i\\} - x_i(2-p)\\exp^{2-p} \\{\\beta_0 + \\beta_1 x_i \\} \\\\\n",
    "\\sum_i y_i x_i (1-p) \\exp^{1-p}\\{\\beta_0 + \\beta_1 x_i\\} - x_i (2-p)\\exp^{2-p} \\{\\beta_0 + \\beta_1 x_i \\} & \\sum_i y_i x_i^2 (1-p) \\exp^{1-p}\\{\\beta_0 + \\beta_1 x_i\\} - x_i^2 (2-p)\\exp^{2-p} \\{\\beta_0 + \\beta_1 x_i \\}\n",
    "\\end{bmatrix}\n",
    "$$"
   ]
  },
  {
   "cell_type": "markdown",
   "id": "ea0d699f",
   "metadata": {},
   "source": [
    "### Tweedie Generalized Linear Model Algorithm\n",
    "\n",
    "1. Initialize $\\hat\\theta_0 = [\\hat \\beta_0, \\hat \\beta_1] = [0, 0]$, $\\epsilon = ||\\theta_j - \\theta_{j - 1}||$\n",
    "\n",
    "2. While $\\epsilon < \\text{tol}$\n",
    "\n",
    "    a) Compute vector of first derivatives with current parameters\n",
    "    \n",
    "    $\\begin{bmatrix}\n",
    "    \\sum_i y_i \\exp^{1-p}\\{\\beta_0 + \\beta_1 x_i\\} - \\exp^{2-p} \\{\\beta_0 + \\beta_1 x_i \\} \\\\\n",
    "    \\sum_i y_i x_i \\exp^{1-p}\\{\\beta_0 + \\beta_1 x_i\\} - x_i\\exp^{2-p} \\{\\beta_0 + \\beta_1 x_i \\}\n",
    "    \\end{bmatrix}$\n",
    "    \n",
    "    b) Compute Hessian matrix of second derivatives with current parameters\n",
    "\n",
    "    $\n",
    "    \\begin{bmatrix}\n",
    "    \\sum_i y_i (1-p) \\exp^{1-p}\\{\\beta_0 + \\beta_1 x_i\\} - (2-p)\\exp^{2-p} \\{\\beta_0 + \\beta_1 x_i \\} & \\sum_i y_i x_i (1-p) \\exp^{p-1}\\{\\beta_0 + \\beta_1 x_i\\} - x_i(2-p)\\exp^{2-p} \\{\\beta_0 + \\beta_1 x_i \\} \\\\\n",
    "    \\sum_i y_i x_i (1-p) \\exp^{1-p}\\{\\beta_0 + \\beta_1 x_i\\} - x_i (2-p)\\exp^{2-p} \\{\\beta_0 + \\beta_1 x_i \\} & \\sum_i y_i x_i^2 (1-p) \\exp^{1-p}\\{\\beta_0 + \\beta_1 x_i\\} - x_i^2 (2-p)\\exp^{2-p} \\{\\beta_0 + \\beta_1 x_i \\}\n",
    "    \\end{bmatrix}\n",
    "    $\n",
    "\n",
    "    c) Update\n",
    "    \n",
    "    $\\hat \\theta_{j+1} = \\theta_j - H^{-1} l'(\\theta_j)$"
   ]
  },
  {
   "cell_type": "code",
   "execution_count": 8,
   "id": "30543ae5",
   "metadata": {},
   "outputs": [],
   "source": [
    "def first_derivatives(b0, b1, x, y, p):\n",
    "    d_b0 = np.sum(y * np.exp(b0 + b1 * x) ** (1 - p) - np.exp(b0 + b1 * x) ** (2 - p))\n",
    "    d_b1 = np.sum(y * x * np.exp(b0 + b1 * x) ** (1 - p) - x * np.exp(b0 + b1 * x) ** (2 - p))\n",
    "    \n",
    "    return np.array([d_b0, d_b1]).reshape(-1, 1)"
   ]
  },
  {
   "cell_type": "code",
   "execution_count": 9,
   "id": "d9d6b62a",
   "metadata": {},
   "outputs": [],
   "source": [
    "def hessian(b0, b1, x, y, p):\n",
    "    d_b02 = np.sum(y * (1 - p) * np.exp(b0 + b1 * x) ** (1 - p) - (2 - p) * np.exp(b0 + b1 * x) ** (2 - p))\n",
    "    d_b12 = np.sum(y * x ** 2 * (1 - p) * np.exp(b0 + b1 * x) ** (1 - p) - x ** 2 * (2 - p) * np.exp(b0 + b1 * x) ** (2 - p))\n",
    "    \n",
    "    d_b0_b1 = np.sum(y * x * (1 - p) * np.exp(b0 + b1 * x) ** (1 - p) - x * (2 - p) * np.exp(b0 + b1 * x) ** (2 - p))\n",
    "    \n",
    "    return np.array([[d_b02, d_b0_b1],\n",
    "                    [d_b0_b1, d_b12]])"
   ]
  },
  {
   "cell_type": "code",
   "execution_count": 10,
   "id": "fe27be92",
   "metadata": {},
   "outputs": [],
   "source": [
    "n = 10\n",
    "params = np.zeros((n, 2))\n",
    "\n",
    "for i in range(1, n):\n",
    "\n",
    "    b0, b1 = params[i - 1]\n",
    "    p = 1.5\n",
    "    \n",
    "    ### Compute vector of first derivates\n",
    "    d_l = first_derivatives(b0, b1, x, y, p)\n",
    "    \n",
    "    ### Compute matrix of hessians\n",
    "    h = hessian(b0, b1, x, y, p)\n",
    "    h_inv = np.linalg.inv(h)\n",
    "    \n",
    "    ### Update current parameters\n",
    "    update = h_inv.dot(d_l).flatten()\n",
    "\n",
    "    params[i] = params[i - 1] - update"
   ]
  },
  {
   "cell_type": "code",
   "execution_count": 11,
   "id": "5335569d",
   "metadata": {},
   "outputs": [
    {
     "data": {
      "text/plain": [
       "array([[0.        , 0.        ],\n",
       "       [0.11205264, 0.80582605],\n",
       "       [0.11354877, 1.0289923 ],\n",
       "       [0.11374388, 1.03153549],\n",
       "       [0.11374394, 1.03153548],\n",
       "       [0.11374394, 1.03153548],\n",
       "       [0.11374394, 1.03153548],\n",
       "       [0.11374394, 1.03153548],\n",
       "       [0.11374394, 1.03153548],\n",
       "       [0.11374394, 1.03153548]])"
      ]
     },
     "execution_count": 11,
     "metadata": {},
     "output_type": "execute_result"
    }
   ],
   "source": [
    "params"
   ]
  },
  {
   "cell_type": "code",
   "execution_count": 12,
   "id": "21c12b33",
   "metadata": {},
   "outputs": [
    {
     "data": {
      "image/png": "[encoded data removed]",
      "text/plain": [
       "<Figure size 432x288 with 1 Axes>"
      ]
     },
     "metadata": {
      "needs_background": "light"
     },
     "output_type": "display_data"
    }
   ],
   "source": [
    "plt.scatter(x, y)\n",
    "plt.plot(x, np.exp(0.03 + 0.98 * x), color = 'orange')\n",
    "plt.show()"
   ]
  },
  {
   "cell_type": "markdown",
   "id": "5b65a179",
   "metadata": {},
   "source": [
    "# Gradient Boosting Machines \n",
    "Recursively fit a decision tree to the negative gradient of the tweedie deviance of the current predictions to the observed values"
   ]
  },
  {
   "cell_type": "markdown",
   "id": "2631a853",
   "metadata": {},
   "source": [
    "Recall the general GBM algorithm"
   ]
  },
  {
   "cell_type": "markdown",
   "id": "2c1cdce9",
   "metadata": {},
   "source": [
    "![](assets/gbm_alg.png)"
   ]
  },
  {
   "cell_type": "markdown",
   "id": "53e5c6b0",
   "metadata": {},
   "source": [
    "The algorithm in words:\n",
    "\n",
    "1. Start out with an initial prediction (the mean).\n",
    "\n",
    "2. Compute the 'residuals' with this prediction.\n",
    "\n",
    "3. Fit a simple decision tree to the 'residuals'. This decision tree minimizes the MSE.\n",
    "\n",
    "4. Compute the optimal node value for each of the partitions given by the simple decision tree.\n",
    "\n",
    "5. Update the current predictions and go back to step 2.\n",
    "\n"
   ]
  },
  {
   "cell_type": "markdown",
   "id": "fe2847a9",
   "metadata": {},
   "source": [
    "Our loss function is the tweedie deviance"
   ]
  },
  {
   "cell_type": "markdown",
   "id": "2f81a0e8",
   "metadata": {},
   "source": [
    "$$L(\\mu, y) = 2 \\left(\\frac{\\max(0, y)^{2-p}}{(1-p)(2-p)} - \\frac{y\\mu^{1-p}}{1-p} + \\frac{\\mu^{2-p}}{2-p} \\right)$$\n",
    "\n",
    "Here we treat \n",
    "\n",
    "$$\\mu = \\exp(f(X))$$\n",
    "\n",
    "$$L(\\mu, y) = 2 \\left(\\frac{\\max(0, y)^{2-p}}{(1-p)(2-p)} - \\frac{y\\exp(f(X))^{1-p}}{1-p} + \\frac{\\exp(f(X))^{2-p}}{2-p} \\right)$$"
   ]
  },
  {
   "cell_type": "markdown",
   "id": "87917f47",
   "metadata": {},
   "source": [
    "With gradient\n",
    "\n",
    "$$\\frac{\\delta L(\\mu, y)}{\\delta \\mu} = \\exp(f(X))^{(1-p)} * (\\exp(f(X)) - y)$$"
   ]
  },
  {
   "cell_type": "markdown",
   "id": "bf78ae54",
   "metadata": {},
   "source": [
    "At the terminal nodes we solve for\n",
    "\n",
    "$$\\arg \\min_\\gamma \\sum_{x_i \\in R_{j, m}} L(y_i, \\exp(f_{m - 1}(x_i) + \\gamma))$$\n",
    "$$\\gamma_{j, m} = \\log \\frac{\\sum_{x_i \\in R_{j, m}} y_i}{\\sum_{x_i \\in R_{j, m}} \\exp(f_{m - 1}(x_i))}$$"
   ]
  },
  {
   "cell_type": "markdown",
   "id": "c0833595",
   "metadata": {},
   "source": [
    "Updated predictions are\n",
    "\n",
    "$$f_m(x) = f_{m - 1}(x) + \\nu \\sum \\gamma_{j, m}I(x \\in R_{j, m})$$"
   ]
  },
  {
   "cell_type": "markdown",
   "id": "73f94b93",
   "metadata": {},
   "source": [
    "### Tweedie Gradient Boosting Algorithm\n",
    "\n",
    "1. Initialize $f_0(x) = \\bar y$\n",
    "\n",
    "2. For $m=1$ to $M$\n",
    "\n",
    "    a) For $i = 1, ..., N$ compute\n",
    "    \n",
    "    $r_{im} = \\exp(f(x_i))^{(1-p)}(\\exp(f(x_i)) - y)$\n",
    "    \n",
    "    b) Fit a regression tree to $r_{im}$\n",
    "    \n",
    "    c) For $j = 1, ..., J_m$ compute \n",
    "    \n",
    "    $\\gamma_{j, m} = \\log \\frac{\\sum_{x_i \\in R_{j, m}} y_i}{\\sum_{x_i \\in R_{j, m}} \\exp(f_{m - 1}(x_i))}$\n",
    "    \n",
    "    d) Update\n",
    "    \n",
    "    $f_m(x) = f_{m - 1}(x) + \\nu \\sum \\gamma_{j, m}I(x \\in R_{j, m})$"
   ]
  },
  {
   "cell_type": "code",
   "execution_count": 13,
   "id": "24c2216a",
   "metadata": {},
   "outputs": [],
   "source": [
    "def tweedie_grad(y, mu, p = 1.5):\n",
    "\n",
    "    return np.exp(mu) ** (1 - p) * (np.exp(mu) - y)"
   ]
  },
  {
   "cell_type": "code",
   "execution_count": 14,
   "id": "b1480c4e",
   "metadata": {},
   "outputs": [],
   "source": [
    "def tweedie_deviance(y_pred, y_true, p = 1.5):\n",
    "    # Requires y_pred > 0 and y_true >= 0\n",
    "    y_pred = np.exp(y_pred)\n",
    "    dev = 2 * (\n",
    "        np.power(y_true, 2 - p) / ((1 - p) * (2 - p))\n",
    "        - y_true * np.power(y_pred, (1 - p)) / (1 - p)\n",
    "        + np.power(y_pred, (2 - p)) / (2 - p)\n",
    "    )\n",
    "    \n",
    "    return np.mean(dev)"
   ]
  },
  {
   "cell_type": "code",
   "execution_count": 15,
   "id": "2e639fd6",
   "metadata": {},
   "outputs": [],
   "source": [
    "def fit_weak_tree(X, psuedo_r):\n",
    "    weak_tree = tree.DecisionTreeRegressor(max_depth = 2)\n",
    "    weak_tree.fit(X, psuedo_r)\n",
    "    terminal_regions = weak_tree.apply(X)\n",
    "    \n",
    "    return weak_tree, terminal_regions"
   ]
  },
  {
   "cell_type": "code",
   "execution_count": 16,
   "id": "506955cb",
   "metadata": {},
   "outputs": [],
   "source": [
    "def assign_terminal_node_values(terminal_regions, y, current_predictions):\n",
    "    possible_regions = np.unique(terminal_regions)\n",
    "    gammas = np.zeros(len(y))\n",
    "    for region in possible_regions:\n",
    "        in_terminal_region = region == terminal_regions\n",
    "        y_in_node = y[in_terminal_region]\n",
    "        current_predictions_in_node = current_predictions[in_terminal_region]\n",
    "        gammas[in_terminal_region] = max(np.log(np.sum(y_in_node) / np.sum(np.exp(current_predictions_in_node))), -20)\n",
    "        \n",
    "    return gammas"
   ]
  },
  {
   "cell_type": "code",
   "execution_count": 17,
   "id": "8f73893d",
   "metadata": {},
   "outputs": [],
   "source": [
    "from sklearn import tree"
   ]
  },
  {
   "cell_type": "code",
   "execution_count": 18,
   "id": "2f5bdb55",
   "metadata": {},
   "outputs": [
    {
     "name": "stderr",
     "output_type": "stream",
     "text": [
      "/tmp/ipykernel_26197/1204102924.py:8: RuntimeWarning: divide by zero encountered in log\n",
      "  gammas[in_terminal_region] = max(np.log(np.sum(y_in_node) / np.sum(np.exp(current_predictions_in_node))), -20)\n",
      "/tmp/ipykernel_26197/1204102924.py:8: RuntimeWarning: divide by zero encountered in log\n",
      "  gammas[in_terminal_region] = max(np.log(np.sum(y_in_node) / np.sum(np.exp(current_predictions_in_node))), -20)\n",
      "/tmp/ipykernel_26197/1204102924.py:8: RuntimeWarning: divide by zero encountered in log\n",
      "  gammas[in_terminal_region] = max(np.log(np.sum(y_in_node) / np.sum(np.exp(current_predictions_in_node))), -20)\n",
      "/tmp/ipykernel_26197/1204102924.py:8: RuntimeWarning: divide by zero encountered in log\n",
      "  gammas[in_terminal_region] = max(np.log(np.sum(y_in_node) / np.sum(np.exp(current_predictions_in_node))), -20)\n",
      "/tmp/ipykernel_26197/1204102924.py:8: RuntimeWarning: divide by zero encountered in log\n",
      "  gammas[in_terminal_region] = max(np.log(np.sum(y_in_node) / np.sum(np.exp(current_predictions_in_node))), -20)\n"
     ]
    },
    {
     "data": {
      "image/png": "[encoded data removed]",
      "text/plain": [
       "<Figure size 432x288 with 1 Axes>"
      ]
     },
     "metadata": {
      "needs_background": "light"
     },
     "output_type": "display_data"
    },
    {
     "data": {
      "image/png": "[encoded data removed]",
      "text/plain": [
       "<Figure size 432x288 with 1 Axes>"
      ]
     },
     "metadata": {
      "needs_background": "light"
     },
     "output_type": "display_data"
    }
   ],
   "source": [
    "### Params\n",
    "max_trees = 500\n",
    "learn_rate = 0.1\n",
    "\n",
    "### Initial Predictions\n",
    "F0 = np.log(np.mean(y))\n",
    "current_predictions = np.repeat(F0, len(y))\n",
    "psuedo_r = tweedie_grad(y, current_predictions)\n",
    "X = x.reshape(-1, 1)\n",
    "\n",
    "### Initial Loss\n",
    "tweedie_loss = [None for i in range(max_trees + 1)]\n",
    "tweedie_loss[0] = tweedie_deviance(current_predictions, y)\n",
    "\n",
    "for T in range(1, max_trees + 1):\n",
    "    \n",
    "    ### Fit weak tree to psuedo residuals\n",
    "    current_tree, current_terminal_regions = fit_weak_tree(X, psuedo_r)\n",
    "\n",
    "    ### Compute Terminal Node Values\n",
    "    gammas = assign_terminal_node_values(current_terminal_regions, y, current_predictions)\n",
    "\n",
    "    ### Update Predictions\n",
    "    current_predictions += learn_rate * gammas\n",
    "    \n",
    "    ### Psuedo Residuals (negative gradient)\n",
    "    psuedo_r = tweedie_grad(y, current_predictions)\n",
    "    \n",
    "    ### Track Loss\n",
    "    tweedie_loss[T] = -tweedie_deviance(current_predictions, y)\n",
    "    \n",
    "sns.scatterplot(x = x, y = y)\n",
    "plt.plot(x, np.exp(current_predictions), color = 'orange')\n",
    "\n",
    "plt.figure()\n",
    "plt.title('Tweedie Loss')\n",
    "plt.plot(tweedie_loss)\n",
    "plt.show()"
   ]
  }
 ],
 "metadata": {
  "kernelspec": {
   "display_name": "conda_python3",
   "language": "python",
   "name": "conda_python3"
  },
  "language_info": {
   "codemirror_mode": {
    "name": "ipython",
    "version": 3
   },
   "file_extension": ".py",
   "mimetype": "text/x-python",
   "name": "python",
   "nbconvert_exporter": "python",
   "pygments_lexer": "ipython3",
   "version": "3.8.12"
  }
 },
 "nbformat": 4,
 "nbformat_minor": 5
}
